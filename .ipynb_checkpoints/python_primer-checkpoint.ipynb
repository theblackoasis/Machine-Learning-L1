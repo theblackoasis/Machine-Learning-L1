{
 "cells": [
  {
   "cell_type": "code",
   "execution_count": 1,
   "metadata": {
    "collapsed": true
   },
   "outputs": [],
   "source": [
    "\"\"\"\n",
    "\n",
    "This notebook presents a primer on Python.\n",
    "We have tried to cover all the required parts of Python programming language which will be useful in the final project.\n",
    "However, we have refrained from entering into advanced python concepts since that diverges our focus from the main goal.\n",
    "Topics are covered in a logical sequence. \n",
    "Feel free to comment and ask questions.\n",
    "Together, we shall conquer this.\n",
    "\n",
    "\"\"\""
   ]
  },
  {
   "cell_type": "code",
   "execution_count": 3,
   "metadata": {},
   "outputs": [
    {
     "data": {
      "text/plain": [
       "\"\\n\\nPython is designed by Guido van Rossum, a dutch Programmer.\\nIt's name is derived from the television series Monty Python's Flying Circus.\\nIt is one of the most widely used languages in the world.\\nPython is a dynamically typed,  byte code interpreted, object oriented language language.\\nPython has one of the richest arsenal of data-science and machine learning libraries.\\n\\n\""
      ]
     },
     "execution_count": 3,
     "metadata": {},
     "output_type": "execute_result"
    }
   ],
   "source": [
    "# Python: A general Overview\n",
    "\n",
    "\"\"\"\n",
    "\n",
    "Python is designed by Guido van Rossum, a dutch Programmer.\n",
    "It's name is derived from the television series Monty Python's Flying Circus.\n",
    "It is one of the most widely used languages in the world.\n",
    "Python is a dynamically typed,  byte code interpreted, object oriented language language.\n",
    "Python has one of the richest arsenal of data-science and machine learning libraries.\n",
    "\n",
    "\"\"\"\n"
   ]
  },
  {
   "cell_type": "code",
   "execution_count": 15,
   "metadata": {},
   "outputs": [
    {
     "data": {
      "text/plain": [
       "'\\ntv_series variable has been assigned values(objects) of 4 differet types \\n'"
      ]
     },
     "execution_count": 15,
     "metadata": {},
     "output_type": "execute_result"
    }
   ],
   "source": [
    "# Python variable declaration and assignment\n",
    "\n",
    "tv_series     =  \"Monty Python\"\n",
    "\"\"\"\n",
    "^                 ^\n",
    "|                 |\n",
    "Varibale Name    Value\n",
    "\n",
    "In the above example *tv_series* is the variable name and *Monty Python* is its value\n",
    "In Python all the value on the right hand side of the equality (RValues) are object.\n",
    "We do not assign variables to any value instead we just give names to objects.\n",
    "Hence same variable can be assigned to different values (objects)\n",
    "\n",
    "\"\"\"\n",
    "\n",
    "tv_series = \"Game of Thrones\"             # again a string\n",
    "\n",
    "tv_series = 7                             # changed to int\n",
    "\n",
    "tv_series = False                         # changed to boolean\n",
    "\n",
    "tv_series = [\"Game of Thrones\", 7, False] # changed to list\n",
    "\n",
    "\n",
    "\"\"\"\n",
    "tv_series variable has been assigned values(objects) of 4 differet types \n",
    "\"\"\""
   ]
  },
  {
   "cell_type": "code",
   "execution_count": 2,
   "metadata": {},
   "outputs": [],
   "source": [
    "# TO DO\n",
    "\n",
    "\"\"\"\n",
    "declare a varibale character and initialize it not None\n",
    "\n",
    "1. change its value as your favorite character\n",
    "2. change its value to an integer which approximately represents his/her age\n",
    "3. change its value to True if the character is female otherwise change it to False\n",
    "4. change its value to a list comprising of above three values\n",
    "\n",
    "\"\"\"\n",
    "# YOUR CODE STARTS\n",
    "\n",
    "tv_character = \"\"\n",
    "\n",
    "tv_character = \"Jon Snow\"\n",
    "tv_character = 22\n",
    "tv_character = False\n",
    "\n",
    "tv_character = ['Jon Snow', 22, False]\n",
    "\n",
    "# YOUR CODE ENDS"
   ]
  },
  {
   "cell_type": "code",
   "execution_count": 18,
   "metadata": {},
   "outputs": [],
   "source": [
    "# Python Built-in data types\n",
    "\n",
    "\"\"\"\n",
    "Numeric types\n",
    "\n",
    "1. int \n",
    "3. float\n",
    "4. complex\n",
    "\n",
    "\"\"\"\n",
    "\n",
    "numeric_value = 10           # assigned an int\n",
    "numerec_value = 10.11        # re-assigned as float\n",
    "numeric_value = 10.11j       # re-assigned as complex number "
   ]
  },
  {
   "cell_type": "code",
   "execution_count": 4,
   "metadata": {},
   "outputs": [],
   "source": [
    "# TO DO\n",
    "\n",
    "\"\"\"\n",
    "declare a varible num and assign it None\n",
    "\n",
    "1. change its value to an integer\n",
    "2. change its value to a float value\n",
    "3. change its vale to a complex number (if you append j at the end of )\n",
    "\n",
    "\"\"\"\n",
    "# YOUR CODE STARTS\n",
    "\n",
    "\n",
    "a = None\n",
    "\n",
    "a = 15\n",
    "a = 15.34\n",
    "a = 15.34j\n",
    "\n",
    "# YOUR CODE ENDS"
   ]
  },
  {
   "cell_type": "code",
   "execution_count": null,
   "metadata": {
    "collapsed": true
   },
   "outputs": [],
   "source": []
  }
 ],
 "metadata": {
  "anaconda-cloud": {},
  "kernelspec": {
   "display_name": "Python 3",
   "language": "python",
   "name": "python3"
  },
  "language_info": {
   "codemirror_mode": {
    "name": "ipython",
    "version": 3
   },
   "file_extension": ".py",
   "mimetype": "text/x-python",
   "name": "python",
   "nbconvert_exporter": "python",
   "pygments_lexer": "ipython3",
   "version": "3.6.1"
  }
 },
 "nbformat": 4,
 "nbformat_minor": 1
}
